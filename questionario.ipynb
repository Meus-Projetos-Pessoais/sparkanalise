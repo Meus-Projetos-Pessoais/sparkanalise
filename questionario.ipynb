{
 "cells": [
  {
   "cell_type": "markdown",
   "metadata": {},
   "source": [
    "1 - Qual o objetivo do comando <b>cache</b> em Spark?"
   ]
  },
  {
   "cell_type": "markdown",
   "metadata": {},
   "source": [
    "<pre>\n",
    "    É uma função que armazena em memória resultados provisório para que sejam usados de forma subsequente otimizando os cálculos no spark.\n",
    "\n",
    "</pre>"
   ]
  },
  {
   "cell_type": "markdown",
   "metadata": {},
   "source": [
    "2 - O mesmo código implementado em Spark é normalmente mais rápido que a implementação equivalente em\n",
    "MapReduce. Por quê?"
   ]
  },
  {
   "cell_type": "markdown",
   "metadata": {},
   "source": []
  },
  {
   "cell_type": "markdown",
   "metadata": {},
   "source": [
    "3 - Qual é a função do <b>SparkContext</b>?"
   ]
  },
  {
   "cell_type": "markdown",
   "metadata": {},
   "source": []
  },
  {
   "cell_type": "markdown",
   "metadata": {},
   "source": [
    "4 - Explique com suas palavras o que é <b>Resilient Distributed Datasets (RDD)</b>."
   ]
  },
  {
   "cell_type": "markdown",
   "metadata": {},
   "source": []
  },
  {
   "cell_type": "markdown",
   "metadata": {},
   "source": [
    "5- <b>GroupByKey</b> é menos eficiente que <b>reduceByKey</b> em grandes dataset. Por quê?"
   ]
  },
  {
   "cell_type": "markdown",
   "metadata": {},
   "source": []
  },
  {
   "cell_type": "markdown",
   "metadata": {},
   "source": [
    "6 - Explique o que o código Scala abaixo faz."
   ]
  },
  {
   "cell_type": "markdown",
   "metadata": {},
   "source": [
    "<img src =\"codigoscala.png\" /> "
   ]
  },
  {
   "cell_type": "markdown",
   "metadata": {},
   "source": [
    "<pre>\n",
    "\n",
    "Esse código serve para separar as palavras em string e int, fazendo o mapeamento e a redução dimensional das palavras do conjunto de dados\n",
    "\n",
    "Um exemplo que pode ser feito é o seguinte com as frases abaixo:\n",
    "\n",
    "1 - Eu gosto de chocolate\n",
    "\n",
    "2 - Eu gosto de jujubas.\n",
    "\n",
    "Fazendo o mapeamento das duas frases, teremos o seguinte resultado.\n",
    "ID | |01  | | 02     | |03  | |04           |\n",
    "1  | |Eu,1| |gosto,1 | |de,1| |chocolate, 1 |\n",
    "2  | |Eu,1| |gosto,1 | |de,1| | jujuba , 1|\n",
    "\n",
    "Contamos todas as palavras, e agora iremos reduzir, pois há repetições de palavras.\n",
    "ID  |    |01    | |02     | |03  |\n",
    "1,2 |    |Eu,2  | |gosto,2| |de,2|\n",
    "\n",
    "ID| |04           |\n",
    "1 | |chocolate, 1 |\n",
    "2 | |jujuba , 1   |\n",
    "\n",
    "Pelo indice da frase, temos mapeados e reduzidos as palavras, evitando repetição, e mais a abaixo, as palavras que não se repetem para serem ligadas à frase principal. Isso ajuda no processamento, pois diminui a dimensão do bloco de dados a ser análisado.\n",
    "\n",
    "\n",
    "\n",
    "<b>Fontes :</b>\n",
    "<a href =  'https://spark.apache.org/examples.html'>Apache Spark Examples</a> \n",
    "<a href =  'http://www.univale.com.br/unisite/mundo-j/artigos/53_Mapreduce.pdf'>Funcionamento e Recursos MapReduce Detalhado</a>\n",
    "<a href =  'https://www.ime.usp.br/~ipolato/JAI2012-Hadoop.pdf'>Apache Hadoop:conceitos teóricos e práticos,evolução e novas possibilidades.</a>\n",
    "</pre>"
   ]
  },
  {
   "cell_type": "code",
   "execution_count": null,
   "metadata": {},
   "outputs": [],
   "source": []
  }
 ],
 "metadata": {
  "kernelspec": {
   "display_name": "Python 3",
   "language": "python",
   "name": "python3"
  },
  "language_info": {
   "codemirror_mode": {
    "name": "ipython",
    "version": 3
   },
   "file_extension": ".py",
   "mimetype": "text/x-python",
   "name": "python",
   "nbconvert_exporter": "python",
   "pygments_lexer": "ipython3",
   "version": "3.7.3"
  }
 },
 "nbformat": 4,
 "nbformat_minor": 2
}
